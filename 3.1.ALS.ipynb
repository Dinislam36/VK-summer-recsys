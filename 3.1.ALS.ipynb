{
 "cells": [
  {
   "cell_type": "code",
   "execution_count": 1,
   "id": "bbc98ae8",
   "metadata": {},
   "outputs": [],
   "source": [
    "from implicit.als import AlternatingLeastSquares\n",
    "import numpy as np\n",
    "import scipy as sc\n",
    "import pandas as pd\n",
    "from scipy.sparse import csr_matrix\n",
    "from sklearn.metrics import ndcg_score\n",
    "from tqdm import tqdm"
   ]
  },
  {
   "cell_type": "markdown",
   "id": "e02ae083",
   "metadata": {},
   "source": [
    "# В этом ноутбуке обучаем ALS для рекомендаций\n",
    "\n",
    "Основная идея ALS - разложение большой разряженной матрицы на 2 меньше размером users = (n_users x n_factos) и songs = (n_factors x n_songs). Где их произведение аппроксимирует большую матрицу и позволяет делать предсказания. Однако фичи пользователей и песен использовать мы тут не можем."
   ]
  },
  {
   "cell_type": "code",
   "execution_count": 2,
   "id": "975860a6",
   "metadata": {},
   "outputs": [],
   "source": [
    "# Read the data\n",
    "train = pd.read_csv(\"train_processed.csv\", index_col=0)\n",
    "val = pd.read_csv(\"val_processed.csv\", index_col=0)\n",
    "test = pd.read_csv(\"test_processed.csv\", index_col=0)"
   ]
  },
  {
   "cell_type": "code",
   "execution_count": 3,
   "id": "54ace8a1",
   "metadata": {},
   "outputs": [],
   "source": [
    "train = train[(train[\"song_id\"] >= 0) & (train[\"msno\"] >= 0)]\n",
    "val = val[(val[\"song_id\"] >= 0) & (val[\"msno\"] >= 0)]\n",
    "test = test[(test[\"song_id\"] >= 0) & (test[\"msno\"] >= 0)]"
   ]
  },
  {
   "cell_type": "code",
   "execution_count": 4,
   "id": "646b15ce",
   "metadata": {},
   "outputs": [],
   "source": [
    "members_data = pd.read_csv(\"members_data_processed.csv\", index_col=0)\n",
    "songs_data = pd.read_csv(\"songs_data_processed.csv\", index_col=0)"
   ]
  },
  {
   "cell_type": "code",
   "execution_count": 5,
   "id": "7d8bbb66",
   "metadata": {},
   "outputs": [],
   "source": [
    "# Take only target 1\n",
    "train_tg1 = train[train['target'] == 1]\n",
    "val_tg1 = val[val['target'] == 1]"
   ]
  },
  {
   "cell_type": "code",
   "execution_count": 6,
   "id": "cc9f5b29",
   "metadata": {},
   "outputs": [],
   "source": [
    "msno_idxs_train = list(train_tg1[\"msno\"])\n",
    "song_id_idxs_train = list(train_tg1[\"song_id\"])\n",
    "data_train = [1] * len(msno_idxs_train)"
   ]
  },
  {
   "cell_type": "code",
   "execution_count": 7,
   "id": "191b2372",
   "metadata": {},
   "outputs": [],
   "source": [
    "# Make user-items sparse matrix\n",
    "user_items_train = csr_matrix((data_train, (msno_idxs_train, song_id_idxs_train)), shape=(len(members_data), len(songs_data)))"
   ]
  },
  {
   "cell_type": "code",
   "execution_count": 8,
   "id": "bc26b4ba",
   "metadata": {},
   "outputs": [],
   "source": [
    "msno_idxs_val = list(val_tg1[\"msno\"])\n",
    "song_id_idxs_val = list(val_tg1[\"song_id\"])\n",
    "data_val = [1] * len(msno_idxs_val)"
   ]
  },
  {
   "cell_type": "code",
   "execution_count": 9,
   "id": "a13149f3",
   "metadata": {},
   "outputs": [],
   "source": [
    "# Make user-items val matrix\n",
    "user_items_val = csr_matrix((data_val, (msno_idxs_val, song_id_idxs_val)), shape=(len(members_data), len(songs_data)))"
   ]
  },
  {
   "cell_type": "code",
   "execution_count": 10,
   "id": "20661ffb",
   "metadata": {},
   "outputs": [
    {
     "name": "stderr",
     "output_type": "stream",
     "text": [
      "C:\\Users\\Dinislam\\Anaconda3\\lib\\site-packages\\implicit\\cpu\\als.py:95: RuntimeWarning: OpenBLAS is configured to use 8 threads. It is highly recommended to disable its internal threadpool by setting the environment variable 'OPENBLAS_NUM_THREADS=1' or by calling 'threadpoolctl.threadpool_limits(1, \"blas\")'. Having OpenBLAS use a threadpool can lead to severe performance issues here.\n",
      "  check_blas_config()\n"
     ]
    },
    {
     "data": {
      "application/vnd.jupyter.widget-view+json": {
       "model_id": "3fb93f8617aa4b98991e9f17add0658a",
       "version_major": 2,
       "version_minor": 0
      },
      "text/plain": [
       "  0%|          | 0/15 [00:00<?, ?it/s]"
      ]
     },
     "metadata": {},
     "output_type": "display_data"
    }
   ],
   "source": [
    "# Init model\n",
    "model = AlternatingLeastSquares(factors=64, num_threads=8)\n",
    "model.fit(user_items_train)"
   ]
  },
  {
   "cell_type": "code",
   "execution_count": 30,
   "id": "7b9f6e9b",
   "metadata": {},
   "outputs": [],
   "source": [
    "# Function to evaluate the model by taking average NDCG@20\n",
    "def eval_als(model, user_list, user_items_train, user_items_test, batch_size=256):\n",
    "    mean_ndcg_score = 0\n",
    "    for idx in tqdm(range(0, len(user_list), batch_size), total=len(user_list) // batch_size):\n",
    "        end_idx = min(idx + batch_size, len(user_list))\n",
    "        user_ids = user_list[idx:end_idx]\n",
    "\n",
    "        ids, scores = model.recommend(user_ids, user_items_train[user_ids], N=20, filter_already_liked_items=True)\n",
    "\n",
    "        for user_id, single_id, single_score in zip(user_ids, ids, scores):\n",
    "            mean_ndcg_score += ndcg_score(user_items_test[user_id, single_id].toarray(), single_score[np.newaxis, :], k=20)\n",
    "    return mean_ndcg_score / len(user_list)"
   ]
  },
  {
   "cell_type": "code",
   "execution_count": 33,
   "id": "7174c7f2",
   "metadata": {},
   "outputs": [
    {
     "data": {
      "application/vnd.jupyter.widget-view+json": {
       "model_id": "0fdd3a58550c4c928b20ccad9b96702f",
       "version_major": 2,
       "version_minor": 0
      },
      "text/plain": [
       "  0%|          | 0/3 [00:00<?, ?it/s]"
      ]
     },
     "metadata": {},
     "output_type": "display_data"
    },
    {
     "name": "stderr",
     "output_type": "stream",
     "text": [
      "135it [05:01,  2.23s/it]                                                                                               \n"
     ]
    },
    {
     "data": {
      "application/vnd.jupyter.widget-view+json": {
       "model_id": "603a06136e6f4955a6eeb8650e91143c",
       "version_major": 2,
       "version_minor": 0
      },
      "text/plain": [
       "  0%|          | 0/3 [00:00<?, ?it/s]"
      ]
     },
     "metadata": {},
     "output_type": "display_data"
    },
    {
     "name": "stderr",
     "output_type": "stream",
     "text": [
      "135it [05:09,  2.29s/it]                                                                                               \n"
     ]
    },
    {
     "data": {
      "application/vnd.jupyter.widget-view+json": {
       "model_id": "561243c462df49d1a1e73698f61a06b4",
       "version_major": 2,
       "version_minor": 0
      },
      "text/plain": [
       "  0%|          | 0/3 [00:00<?, ?it/s]"
      ]
     },
     "metadata": {},
     "output_type": "display_data"
    },
    {
     "name": "stderr",
     "output_type": "stream",
     "text": [
      "135it [05:33,  2.47s/it]                                                                                               \n"
     ]
    },
    {
     "data": {
      "application/vnd.jupyter.widget-view+json": {
       "model_id": "e8635ecd86c94dc89977659ea6946868",
       "version_major": 2,
       "version_minor": 0
      },
      "text/plain": [
       "  0%|          | 0/8 [00:00<?, ?it/s]"
      ]
     },
     "metadata": {},
     "output_type": "display_data"
    },
    {
     "name": "stderr",
     "output_type": "stream",
     "text": [
      "135it [04:57,  2.20s/it]                                                                                               \n"
     ]
    },
    {
     "data": {
      "application/vnd.jupyter.widget-view+json": {
       "model_id": "2e5f5b430a14405aa5e83e3d47eb04db",
       "version_major": 2,
       "version_minor": 0
      },
      "text/plain": [
       "  0%|          | 0/8 [00:00<?, ?it/s]"
      ]
     },
     "metadata": {},
     "output_type": "display_data"
    },
    {
     "name": "stderr",
     "output_type": "stream",
     "text": [
      "135it [05:04,  2.26s/it]                                                                                               \n"
     ]
    },
    {
     "data": {
      "application/vnd.jupyter.widget-view+json": {
       "model_id": "4c44a12af50c45fea94f093f33ca6fec",
       "version_major": 2,
       "version_minor": 0
      },
      "text/plain": [
       "  0%|          | 0/8 [00:00<?, ?it/s]"
      ]
     },
     "metadata": {},
     "output_type": "display_data"
    },
    {
     "name": "stderr",
     "output_type": "stream",
     "text": [
      "135it [05:33,  2.47s/it]                                                                                               \n"
     ]
    },
    {
     "data": {
      "application/vnd.jupyter.widget-view+json": {
       "model_id": "0dc49bb10f2b439cbce78262958276a1",
       "version_major": 2,
       "version_minor": 0
      },
      "text/plain": [
       "  0%|          | 0/10 [00:00<?, ?it/s]"
      ]
     },
     "metadata": {},
     "output_type": "display_data"
    },
    {
     "name": "stderr",
     "output_type": "stream",
     "text": [
      "135it [04:57,  2.21s/it]                                                                                               \n"
     ]
    },
    {
     "data": {
      "application/vnd.jupyter.widget-view+json": {
       "model_id": "f253873844fc4441adf9dbfab598c433",
       "version_major": 2,
       "version_minor": 0
      },
      "text/plain": [
       "  0%|          | 0/10 [00:00<?, ?it/s]"
      ]
     },
     "metadata": {},
     "output_type": "display_data"
    },
    {
     "name": "stderr",
     "output_type": "stream",
     "text": [
      "135it [05:03,  2.25s/it]                                                                                               \n"
     ]
    },
    {
     "data": {
      "application/vnd.jupyter.widget-view+json": {
       "model_id": "00e7e615b5214395aed52ca37e7a8771",
       "version_major": 2,
       "version_minor": 0
      },
      "text/plain": [
       "  0%|          | 0/10 [00:00<?, ?it/s]"
      ]
     },
     "metadata": {},
     "output_type": "display_data"
    },
    {
     "name": "stderr",
     "output_type": "stream",
     "text": [
      "135it [05:33,  2.47s/it]                                                                                               \n"
     ]
    }
   ],
   "source": [
    "# Make grid search\n",
    "import itertools\n",
    "iters_arr = [3, 8, 10]\n",
    "factors_arr = [16, 32, 64]\n",
    "\n",
    "members_list = list(members_data['msno'])\n",
    "batch_size = 256\n",
    "\n",
    "mean_ndcg_scores = []\n",
    "\n",
    "for iters, factors in itertools.product(iters_arr, factors_arr):\n",
    "    model = AlternatingLeastSquares(factors=factors, num_threads=4, iterations=iters)\n",
    "    model.fit(user_items_train)\n",
    "    mean_ndcg_score = 0\n",
    "    \n",
    "    mean_ndcg_score = eval_als(model, members_list, user_items_train, user_items_val)\n",
    "    \n",
    "    mean_ndcg_scores.append((mean_ndcg_score, iters, factors))"
   ]
  },
  {
   "cell_type": "code",
   "execution_count": 34,
   "id": "48fc30a6",
   "metadata": {},
   "outputs": [
    {
     "data": {
      "text/plain": [
       "[(0.15288618981878643, 3, 16),\n",
       " (0.1553390233871362, 3, 32),\n",
       " (0.15241907491225676, 3, 64),\n",
       " (0.15504213540863163, 8, 16),\n",
       " (0.15563592772046222, 8, 32),\n",
       " (0.15116959413711512, 8, 64),\n",
       " (0.15531999027814972, 10, 16),\n",
       " (0.15572520158936604, 10, 32),\n",
       " (0.15168789602777197, 10, 64)]"
      ]
     },
     "execution_count": 34,
     "metadata": {},
     "output_type": "execute_result"
    }
   ],
   "source": [
    "# Grid search results\n",
    "mean_ndcg_scores"
   ]
  },
  {
   "cell_type": "code",
   "execution_count": null,
   "id": "dc3c4dbd",
   "metadata": {},
   "outputs": [],
   "source": []
  },
  {
   "cell_type": "code",
   "execution_count": 35,
   "id": "cd92c0be",
   "metadata": {},
   "outputs": [],
   "source": [
    "test_tg1 = test[test['target'] == 1]\n",
    "msno_idxs_test = list(test_tg1[\"msno\"])\n",
    "song_id_idxs_test = list(test_tg1[\"song_id\"])\n",
    "data_test = [1] * len(msno_idxs_test)"
   ]
  },
  {
   "cell_type": "code",
   "execution_count": 36,
   "id": "21e56a08",
   "metadata": {},
   "outputs": [],
   "source": [
    "user_items_test = csr_matrix((data_test, (msno_idxs_test, song_id_idxs_test)), shape=(len(members_data), len(songs_data)))"
   ]
  },
  {
   "cell_type": "code",
   "execution_count": 37,
   "id": "529a8eb6",
   "metadata": {},
   "outputs": [],
   "source": [
    "# Трейн + валидационные данные можно взять как сумму двух матриц\n",
    "user_items_train_all = user_items_train + user_items_val"
   ]
  },
  {
   "cell_type": "code",
   "execution_count": 38,
   "id": "e1b97a22",
   "metadata": {},
   "outputs": [
    {
     "data": {
      "application/vnd.jupyter.widget-view+json": {
       "model_id": "201f236743fa4f57b16ab23a1e1e8a14",
       "version_major": 2,
       "version_minor": 0
      },
      "text/plain": [
       "  0%|          | 0/10 [00:00<?, ?it/s]"
      ]
     },
     "metadata": {},
     "output_type": "display_data"
    },
    {
     "name": "stderr",
     "output_type": "stream",
     "text": [
      "135it [05:11,  2.31s/it]                                                                                               \n"
     ]
    }
   ],
   "source": [
    "# Make best model based on grid searcg\n",
    "best_model_params = sorted(mean_ndcg_scores, key=lambda x: -x[0])[0]\n",
    "best_model = AlternatingLeastSquares(factors=best_model_params[2], iterations=best_model_params[1], num_threads=8)\n",
    "best_model.fit(user_items_train_all)\n",
    "\n",
    "ndcg_score = eval_als(best_model, members_list, user_items_train_all, user_items_test)"
   ]
  },
  {
   "cell_type": "code",
   "execution_count": 43,
   "id": "80129b93",
   "metadata": {},
   "outputs": [
    {
     "name": "stdout",
     "output_type": "stream",
     "text": [
      "Test NDCG@20 score: 0.13228656058119517\n"
     ]
    }
   ],
   "source": [
    "# Total test ndcg@20 score\n",
    "\n",
    "print(f\"Test NDCG@20 score: {ndcg_score}\")"
   ]
  },
  {
   "cell_type": "code",
   "execution_count": null,
   "id": "24b2cb16",
   "metadata": {},
   "outputs": [],
   "source": []
  }
 ],
 "metadata": {
  "kernelspec": {
   "display_name": "Python 3 (ipykernel)",
   "language": "python",
   "name": "python3"
  },
  "language_info": {
   "codemirror_mode": {
    "name": "ipython",
    "version": 3
   },
   "file_extension": ".py",
   "mimetype": "text/x-python",
   "name": "python",
   "nbconvert_exporter": "python",
   "pygments_lexer": "ipython3",
   "version": "3.9.12"
  }
 },
 "nbformat": 4,
 "nbformat_minor": 5
}
